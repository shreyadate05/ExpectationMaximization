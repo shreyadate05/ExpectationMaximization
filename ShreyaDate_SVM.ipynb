{
 "cells": [
  {
   "cell_type": "markdown",
   "metadata": {},
   "source": [
    "<hr />\n",
    "<p style=\"font-family: Calibri; font-size:1.3em;color:purple;\"> <em> <b>\n",
    "Shreya Date (PQ56297)\n",
    "<br> CMSC 678 - Homework 5\n",
    "<br> Problem 1 on Support Vector Machines\n",
    "<br> <hr /> </b> </em> </p>"
   ]
  },
  {
   "cell_type": "code",
   "execution_count": null,
   "metadata": {},
   "outputs": [],
   "source": [
    "import pandas as pd\n",
    "import numpy as np\n",
    "\n",
    "import seaborn as sns\n",
    "sns.set(style='ticks')\n",
    "\n",
    "%matplotlib inline\n",
    "import matplotlib.pyplot as plt\n",
    "from matplotlib.patches import Polygon\n",
    "plt.style.use('ggplot')\n",
    "\n",
    "from sklearn.svm import SVC"
   ]
  },
  {
   "cell_type": "markdown",
   "metadata": {},
   "source": [
    "<p style=\"font-family: Calibri; font-size:1.3em;color:green;\"> <em> <b> (1a) Plot on graph paper the training instances in the input space and label them according to the class to which they belong. State whether the patterns from the two classes are linearly separable in this space. \n",
    "<br> <br> <u> Solution: </u>   \n",
    "<br> <br> From the figure plotted below, we can see that the data is not linearly separable.\n",
    "<br> <br> </b> </em> </p>"
   ]
  },
  {
   "cell_type": "code",
   "execution_count": null,
   "metadata": {},
   "outputs": [],
   "source": [
    "x = [-2, -2, 1, 2, -2, 0, 0, 2]\n",
    "y = [-2, -1, 2, 1, 2, 2, -1,-1]\n",
    "c = ['A', 'A', 'A', 'A', 'B', 'B', 'B', 'B']\n",
    "\n",
    "df = pd.DataFrame({ \"x\": x, \"y\": y, \"class\": c })\n",
    "\n",
    "sns.set(rc={'figure.figsize':(5, 5)})\n",
    "sns.scatterplot(data=df, x='x', y='y', hue='class', s = 100)\n"
   ]
  },
  {
   "cell_type": "markdown",
   "metadata": {},
   "source": [
    "<p style=\"font-family: Calibri; font-size:1.3em;color:green;\"> <em> <b> <br> (1b)  Create a new plot of the training instances in the feature space and label them according to the class to which they belong. \n",
    "<br> <br> <u> Solution: </u>\n",
    "<br> <br> Input Space is  :  [(-2, -2), (-2, -1), (1, 2), (2, 1), (-2, 2), (0, 2), (0, -1), (2, -1)]\n",
    "<br> Feature Space is:  [(4, 4), (4, 2), (1, 2), (4, 2), (4, -4), (0, 0), (0, 0), (4, -2)]\n",
    "<br> <br>\n",
    "</b> </em> </p>"
   ]
  },
  {
   "cell_type": "code",
   "execution_count": null,
   "metadata": {},
   "outputs": [],
   "source": [
    "x1 = [-2, -2, 1, 2, -2, 0, 0, 2]\n",
    "x2 = [-2, -1, 2, 1, 2, 2, -1,-1]\n",
    "\n",
    "x = [a*a for a in x1]\n",
    "y = [a*b for a,b in zip(x1, x2)]\n",
    "c = ['A', 'A', 'A', 'A', 'B', 'B', 'B', 'B']\n",
    "\n",
    "df = pd.DataFrame({ \"x\": x, \"y\": y, \"class\": c })\n",
    "\n",
    "sns.set(rc={'figure.figsize':(5, 5)})\n",
    "sns.scatterplot(data=df, x='x', y='y', hue='class', s = 100)\n"
   ]
  },
  {
   "cell_type": "markdown",
   "metadata": {},
   "source": [
    "<p style=\"font-family: Calibri; font-size:1.3em;color:green;\"> <em> <b> (1c) Find the maximum margin classifier in the feature space. More specifically, find the equations of the classification boundary and of the two margin boundaries. Plot these three boundaries on the same graph that was used in step (b). Also indicate which are the support vectors in the feature space. Note that the boundaries and the support vectors are easy to find by inspection.\n",
    "<br> <br> <u> Solution: </u>\n",
    "<br> <br> The support vectors in the feature space seem to be (0, 0), (4, -2) and (1, 2).\n",
    "<br> So, the slope of margin is -0.5.\n",
    "<br> We can now get the equations of margins as y = -0.5x and y = -0.5x + 2.5.\n",
    "<br> The classification boundry is equidistant from the two margin boundries.\n",
    "<br> So, the equation of the classification boundry is y = -0.5x + 1.25.\n",
    "<br> Feature Space is:  [(4, 4), (4, 2), (1, 2), (4, 2), (4, -4), (0, 0), (0, 0), (4, -2)] \n",
    "<br> <br> </b> </em> </p> "
   ]
  },
  {
   "cell_type": "code",
   "execution_count": null,
   "metadata": {},
   "outputs": [],
   "source": [
    "x1 = [-2, -2, 1, 2, -2, 0, 0, 2]\n",
    "x2 = [-2, -1, 2, 1, 2, 2, -1,-1]\n",
    "print(\"\\nInput Space is: \", list(zip(x1, x2)))\n",
    "\n",
    "x = [a*a for a in x1]\n",
    "y = [a*b for a,b in zip(x1, x2)]\n",
    "print(\"\\nFeature Space is: \", list(zip(x, y)))\n",
    "\n",
    "sns.set(rc={'figure.figsize':(5, 5)})\n",
    "sns.scatterplot(data=df, x='x', y='y', hue='class', s = 100)\n",
    "\n",
    "x = np.arange(-5, 10, 0.5).tolist()\n",
    "y = [-0.5 * a + 2.5 for a in x]\n",
    "markers_on = [i for i, j in enumerate(x) if j == 1]\n",
    "plt.plot(x, y, '-bD', markevery=markers_on, markersize = 10)\n",
    "\n",
    "x = np.arange(-5, 10, 0.5).tolist()\n",
    "y = [-0.5 * a + 1.25 for a in x]\n",
    "plt.plot(x, y, '-g')\n",
    "\n",
    "x = np.arange(-5, 10, 0.5).tolist()\n",
    "y = [-0.5 * a for a in x]\n",
    "markers_on = [i for i, j in enumerate(x) if j == 0 or j == 4]\n",
    "plt.plot(x, y, '-rD', markevery=markers_on, markersize = 10)\n"
   ]
  },
  {
   "cell_type": "markdown",
   "metadata": {},
   "source": [
    "<p style=\"font-family: Calibri; font-size:1.3em;color:green;\"> <em> <b> (1d) Find which vectors in the input space correspond to the support vectors found in step (c)\n",
    "<br> <br> <u> Solution: </u>\n",
    "<br> <br> The support vector (0, 0)  corresponds to points (0, 2) and (0, -1) in input space.\n",
    "<br> The support vector (4, -2) corresponds to point  (2, -1) in input space.\n",
    "<br> The support vector (1, 2)  corresponds to point  (1, 2) in input space.\n",
    "<br> <br> <hr /> </b> </em> </p> "
   ]
  },
  {
   "cell_type": "markdown",
   "metadata": {},
   "source": [
    "<p style=\"font-family: Calibri; font-size:1.3em;color:green;\"> <em> <b>(1e) Plot the classification boundary in input space on the same graph that was used in step (a).\n",
    "<br> <br> <u> Solution: </u>\n",
    "<br> <br> Plotted and shaded below is the area under the curve obtained for x2*x1 = (m*x1*x1) + c\n",
    "<br> We have found the equation for x2 = m*x1 + c\n",
    "<br> <br>\n",
    "</b> </em> </p> "
   ]
  },
  {
   "cell_type": "code",
   "execution_count": 8,
   "metadata": {},
   "outputs": [
    {
     "name": "stderr",
     "output_type": "stream",
     "text": [
      "C:\\ProgramData\\Anaconda3\\lib\\site-packages\\ipykernel_launcher.py:12: RuntimeWarning: divide by zero encountered in double_scalars\n",
      "  if sys.path[0] == '':\n"
     ]
    },
    {
     "data": {
      "text/plain": [
       "[<matplotlib.lines.Line2D at 0x1e118d9e2c8>]"
      ]
     },
     "execution_count": 8,
     "metadata": {},
     "output_type": "execute_result"
    },
    {
     "data": {
      "image/png": "[encoded data removed]",
      "text/plain": [
       "<Figure size 360x360 with 1 Axes>"
      ]
     },
     "metadata": {},
     "output_type": "display_data"
    }
   ],
   "source": [
    "x = [-2, -2, 1, 2, -2, 0, 0, 2]\n",
    "y = [-2, -1, 2, 1, 2, 2, -1,-1]\n",
    "c = ['A', 'A', 'A', 'A', 'B', 'B', 'B', 'B']\n",
    "\n",
    "df = pd.DataFrame({ \"x\": x, \"y\": y, \"class\": c })\n",
    "\n",
    "sns.set(rc={'figure.figsize':(5, 5)})\n",
    "sns.scatterplot(data=df, x='x', y='y', hue='class', s = 100)\n",
    "\n",
    "\n",
    "x = np.linspace(-4, 5, 100)\n",
    "y = [-0.5 * a + 1.25/a for a in x]\n",
    "\n",
    "plt.plot(x, y, 'b')\n"
   ]
  },
  {
   "cell_type": "markdown",
   "metadata": {},
   "source": [
    "<p style=\"font-family: Calibri; font-size:1.3em;color:green;\"> <em> <b> (1f) Plot on the same graph the boundaries of the classification margin zone in the input space. Shade the area between these two boundaries to better visualize the classification margin zone in the input space.\n",
    "<br> <br> <u> Solution: </u>\n",
    "<br> <br> \n",
    "<img src = \"download.png\">\n",
    "</b> </em> </p> "
   ]
  },
  {
   "cell_type": "code",
   "execution_count": 7,
   "metadata": {},
   "outputs": [
    {
     "name": "stderr",
     "output_type": "stream",
     "text": [
      "C:\\ProgramData\\Anaconda3\\lib\\site-packages\\ipykernel_launcher.py:18: RuntimeWarning: divide by zero encountered in double_scalars\n",
      "C:\\ProgramData\\Anaconda3\\lib\\site-packages\\ipykernel_launcher.py:2: RuntimeWarning: divide by zero encountered in true_divide\n",
      "  \n",
      "C:\\ProgramData\\Anaconda3\\lib\\site-packages\\ipykernel_launcher.py:5: RuntimeWarning: divide by zero encountered in true_divide\n",
      "  \"\"\"\n"
     ]
    },
    {
     "data": {
      "text/plain": [
       "<matplotlib.legend.Legend at 0x1e118d9d488>"
      ]
     },
     "execution_count": 7,
     "metadata": {},
     "output_type": "execute_result"
    },
    {
     "data": {
      "image/png": "[encoded data removed]",
      "text/plain": [
       "<Figure size 360x360 with 1 Axes>"
      ]
     },
     "metadata": {},
     "output_type": "display_data"
    }
   ],
   "source": [
    "def f(x):\n",
    "    return -0.8 * x - 1.25/x\n",
    "\n",
    "def g(x):\n",
    "    return -0.5 * x + 1.25/x\n",
    "\n",
    "x = [-2, -2, 1, 2, -2, 0, 0, 2]\n",
    "y = [-2, -1, 2, 1, 2, 2, -1,-1]\n",
    "c = ['A', 'A', 'A', 'A', 'B', 'B', 'B', 'B']\n",
    "\n",
    "df = pd.DataFrame({ \"x\": x, \"y\": y, \"class\": c })\n",
    "\n",
    "sns.set(rc={'figure.figsize':(5, 5)})\n",
    "sns.scatterplot(data=df, x='x', y='y', hue='class', s = 50)\n",
    "\n",
    "\n",
    "x = np.linspace(-4, 5, 100)\n",
    "y = [-0.5 * a + 1.25/a for a in x]\n",
    "\n",
    "plt.plot(x, y, 'b')\n",
    "plt.fill(x, y, c='blue', alpha = 0.3)\n",
    "plt.fill_between(x, f(x), g(x), color = 'lightpink', alpha = 0.8)\n",
    "plt.legend()\n"
   ]
  },
  {
   "cell_type": "markdown",
   "metadata": {},
   "source": [
    "<p style=\"font-family: Calibri; font-size:1.3em;color:green;\"> <em> <b> (1g)  Write the inequality that you would use to classify new input patterns with the SVM classifier developed in steps (a) through (f). Choose an inequality that is as simple as possible.\n",
    "<br> <br> <u> Solution: </u>\n",
    "<br> <br> The inequality equations are:\n",
    "<br> y < -0.5x + 1.25/x  for x < 0\n",
    "<br> y > -0.5x + 1.25/x  for x > 0\n",
    "<br> y > -0.5x + 1.25/x  for x < 0\n",
    "<br> y < -0.5x + 1.25/x  for x > 0\n",
    "<br><br>\n",
    "</b> </em> </p> "
   ]
  },
  {
   "cell_type": "code",
   "execution_count": null,
   "metadata": {},
   "outputs": [],
   "source": []
  }
 ],
 "metadata": {
  "kernelspec": {
   "display_name": "Python 3",
   "language": "python",
   "name": "python3"
  },
  "language_info": {
   "codemirror_mode": {
    "name": "ipython",
    "version": 3
   },
   "file_extension": ".py",
   "mimetype": "text/x-python",
   "name": "python",
   "nbconvert_exporter": "python",
   "pygments_lexer": "ipython3",
   "version": "3.7.4"
  }
 },
 "nbformat": 4,
 "nbformat_minor": 2
}
